{
 "cells": [
  {
   "cell_type": "markdown",
   "metadata": {},
   "source": [
    "# synthetic time series for evaluation"
   ]
  },
  {
   "cell_type": "code",
   "execution_count": 1,
   "metadata": {},
   "outputs": [],
   "source": [
    "import matplotlib.pyplot as plt\n",
    "# import timesynth as ts\n",
    "import numpy as np\n",
    "import pandas as pd\n",
    "%matplotlib inline\n",
    "%config InlineBackend.figure_format = 'retina'"
   ]
  },
  {
   "cell_type": "code",
   "execution_count": 2,
   "metadata": {},
   "outputs": [],
   "source": [
    "# channel number\n",
    "channel_num = 4\n",
    "# segment number\n",
    "seg_num = 20\n",
    "seg_len = 1000\n",
    "# must be lower than seg_num.\n",
    "state_num = 5\n",
    "ts_num = 100"
   ]
  },
  {
   "cell_type": "code",
   "execution_count": 3,
   "metadata": {},
   "outputs": [],
   "source": [
    "# Generate segment json\n",
    "def generate_seg_json(seg_num, state_num, random_state=None):\n",
    "    # Config seed to generate determinally.\n",
    "    if random_state is not None:\n",
    "        np.random.seed(random_state)\n",
    "    seg_json = {}\n",
    "    state_list = np.random.randint(state_num, size=seg_num)\n",
    "    total_len = 1000\n",
    "    for i, state in zip(range(seg_num), state_list):\n",
    "        seg_len = 1000\n",
    "        seg_json[total_len]=state\n",
    "        total_len += seg_len\n",
    "    return seg_json"
   ]
  },
  {
   "cell_type": "code",
   "execution_count": 4,
   "metadata": {},
   "outputs": [],
   "source": [
    "from shape import RMDF\n",
    "\n",
    "shape_len = 200\n",
    "num_shape = 5\n",
    "def gen_channel_from_json(seg_json):\n",
    "    state_list = [seg_json[seg] for seg in seg_json]\n",
    "    true_state_num = len(set(state_list))\n",
    "    # This is an object list.\n",
    "    rmdf_list = [RMDF.RMDF(depth=5) for i in range(true_state_num)]\n",
    "    for rmdf in rmdf_list:\n",
    "        rmdf.gen_anchor()\n",
    "    seg_list = []\n",
    "    for state in state_list:\n",
    "        seg = [rmdf_list[state].gen(forking_depth=1, length=shape_len) for i in range(num_shape)]\n",
    "        seg_list.append(np.concatenate(seg))\n",
    "    result = np.concatenate(seg_list)\n",
    "    return result\n",
    "\n",
    "def gen_from_json(seg_json):\n",
    "    # generate channel respectively.\n",
    "    channel_list = [gen_channel_from_json(seg_json) for i in range(channel_num)]\n",
    "    return np.stack(channel_list).T"
   ]
  },
  {
   "cell_type": "code",
   "execution_count": 5,
   "metadata": {},
   "outputs": [],
   "source": [
    "seg_json_list = []\n",
    "for i in range(ts_num):\n",
    "    seg_json =generate_seg_json(seg_num, state_num)\n",
    "    while len(set([seg_json[key] for key in list(seg_json)])) != state_num:\n",
    "        seg_json =generate_seg_json(seg_num, state_num)\n",
    "    seg_json_list.append(seg_json)"
   ]
  },
  {
   "cell_type": "code",
   "execution_count": 6,
   "metadata": {},
   "outputs": [],
   "source": [
    "from TSpy.label import seg_to_label, adjust_label\n",
    "import os\n",
    "\n",
    "path = '../data/synthetic_data_for_segmentation2'\n",
    "for i, seg_json in enumerate(seg_json_list):\n",
    "    data = gen_from_json(seg_json)\n",
    "    # plot_mulvariate_time_series(data)\n",
    "    label = adjust_label(seg_to_label(seg_json))\n",
    "    df = pd.DataFrame(data)\n",
    "    df.insert(4, 'label', label)\n",
    "    if not os.path.exists(path):\n",
    "        os.mkdir(path)\n",
    "    df.to_csv(path+'/test'+str(i)+'.csv', header=False, index=False)\n",
    "\n",
    "# path = '../data/synthetic_data_for_Autoplait'\n",
    "# if not os.path.exists(path):\n",
    "#     os.mkdir(path)\n",
    "# with open(path+'/list', 'w') as f:\n",
    "#     for i in range(ts_num):\n",
    "#         f.writelines('../data/synthetic_data_for_Autoplait/test'+str(i)+'.csv\\n')\n",
    "# for i, seg_json in enumerate(seg_json_list):\n",
    "#     data = gen_from_json(seg_json)\n",
    "#     # plot_mulvariate_time_series(data)\n",
    "#     label = adjust_label(seg_to_label(seg_json))\n",
    "#     df = pd.DataFrame(data).round(4)\n",
    "#     df.insert(4, 'label', label)\n",
    "#     if not os.path.exists(path):\n",
    "#         os.mkdir(path)\n",
    "#     df.to_csv(path+'/test'+str(i)+'.csv', header=False, index=False, sep=' ')"
   ]
  }
 ],
 "metadata": {
  "kernelspec": {
   "display_name": "Python 3",
   "language": "python",
   "name": "python3"
  },
  "language_info": {
   "codemirror_mode": {
    "name": "ipython",
    "version": 3
   },
   "file_extension": ".py",
   "mimetype": "text/x-python",
   "name": "python",
   "nbconvert_exporter": "python",
   "pygments_lexer": "ipython3",
   "version": "3.7.12"
  }
 },
 "nbformat": 4,
 "nbformat_minor": 1
}
