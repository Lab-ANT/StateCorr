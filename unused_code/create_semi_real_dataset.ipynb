{
 "cells": [
  {
   "cell_type": "code",
   "execution_count": null,
   "metadata": {},
   "outputs": [],
   "source": [
    "# Created by Chengyu on 2021/1/17.\n",
    "import matplotlib.pyplot as plt\n",
    "import numpy as np\n",
    "import pandas as pd"
   ]
  },
  {
   "cell_type": "code",
   "execution_count": null,
   "metadata": {},
   "outputs": [],
   "source": [
    "# configuration\n",
    "channel_num = 4\n",
    "# seg_num = 20\n",
    "seg_len = [500, 1000] # 200~1000\n",
    "state_num = [4, 8] # 4~8\n",
    "num_group = 10\n",
    "num_ts_in_group = 10\n",
    "save_path = '../data/semi_real/'\n",
    "random_state = 2023"
   ]
  },
  {
   "cell_type": "code",
   "execution_count": null,
   "metadata": {},
   "outputs": [],
   "source": [
    "# Generate segment json\n",
    "length = 20000\n",
    "def generate_seg_json(seg_len, state_num, random_state=None):\n",
    "    # Config seed to generate determinally.\n",
    "    if random_state is not None:\n",
    "        np.random.seed(random_state)\n",
    "    seg_json = {}\n",
    "    # maximum possible num of segments.\n",
    "    seg_num = int(length/seg_len[0])\n",
    "    # generate random state num.\n",
    "    random_state_num = np.random.randint(low=state_num[0], high=state_num[1])\n",
    "    # generate state for each segment.\n",
    "    state_list = np.random.randint(random_state_num, size=seg_num)\n",
    "    while len(set(state_list)) != random_state_num:\n",
    "        state_list = np.random.randint(random_state_num, size=seg_num)\n",
    "    # generate length for each segment.\n",
    "    seg_len_list = np.random.randint(low=seg_len[0], high=seg_len[1], size=seg_num)\n",
    "    total_len = 0\n",
    "    for i, state, rand_seg_len in zip(range(seg_num), state_list, seg_len_list):\n",
    "        total_len += rand_seg_len\n",
    "        if total_len>=length:\n",
    "            total_len = length\n",
    "        seg_json[total_len]=state\n",
    "    return seg_json"
   ]
  },
  {
   "cell_type": "code",
   "execution_count": null,
   "metadata": {},
   "outputs": [],
   "source": [
    "seg_json_list = []\n",
    "for i in range(num_group):\n",
    "    seg_json =generate_seg_json(seg_len, state_num, random_state)\n",
    "    seg_json_list.append(seg_json)"
   ]
  },
  {
   "cell_type": "code",
   "execution_count": null,
   "metadata": {},
   "outputs": [],
   "source": [
    "def gen_from_json(seg_json):\n",
    "    pass"
   ]
  },
  {
   "cell_type": "code",
   "execution_count": null,
   "metadata": {},
   "outputs": [],
   "source": [
    "def generate_group(num_ts_in_group, seg_json):\n",
    "    data_list = []\n",
    "    for i in range(num_ts_in_group):\n",
    "        data = np.concatenate([gen_from_json(seg_json)])\n",
    "        data_list.append(data)\n",
    "    return data_list\n",
    "\n",
    "group_list = [generate_group(num_ts_in_group, seg_json) for seg_json in seg_json_list]"
   ]
  }
 ],
 "metadata": {
  "language_info": {
   "name": "python"
  },
  "orig_nbformat": 4
 },
 "nbformat": 4,
 "nbformat_minor": 2
}
