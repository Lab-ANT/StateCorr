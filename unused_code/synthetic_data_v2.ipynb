{
 "cells": [
  {
   "cell_type": "markdown",
   "metadata": {},
   "source": [
    "# synthetic time series for evaluation"
   ]
  },
  {
   "cell_type": "code",
   "execution_count": 7,
   "metadata": {},
   "outputs": [],
   "source": [
    "# Created by Chengyu on 2021/1/17.\n",
    "import matplotlib.pyplot as plt\n",
    "import numpy as np\n",
    "import pandas as pd"
   ]
  },
  {
   "cell_type": "code",
   "execution_count": 8,
   "metadata": {},
   "outputs": [],
   "source": [
    "# configuration\n",
    "channel_num = 4\n",
    "# seg_num = 20\n",
    "seg_len = [500, 1000] # 200~1000\n",
    "state_num = [4, 8] # 4~8\n",
    "num_group = 10\n",
    "num_ts_in_group = 10\n",
    "save_path = '../data/synthetic_data/'\n",
    "random_state = None"
   ]
  },
  {
   "cell_type": "code",
   "execution_count": 9,
   "metadata": {},
   "outputs": [],
   "source": [
    "# Generate segment json\n",
    "length = 20000\n",
    "def generate_seg_json(seg_len, state_num, random_state=None):\n",
    "    # Config seed to generate determinally.\n",
    "    if random_state is not None:\n",
    "        np.random.seed(random_state)\n",
    "    seg_json = {}\n",
    "    # maximum possible num of segments.\n",
    "    seg_num = int(length/seg_len[0])\n",
    "    # generate random state num.\n",
    "    random_state_num = np.random.randint(low=state_num[0], high=state_num[1])\n",
    "    # generate state for each segment.\n",
    "    state_list = np.random.randint(random_state_num, size=seg_num)\n",
    "    while len(set(state_list)) != random_state_num:\n",
    "        state_list = np.random.randint(random_state_num, size=seg_num)\n",
    "    # generate length for each segment.\n",
    "    seg_len_list = np.random.randint(low=seg_len[0], high=seg_len[1], size=seg_num)\n",
    "    total_len = 0\n",
    "    for i, state, rand_seg_len in zip(range(seg_num), state_list, seg_len_list):\n",
    "        total_len += rand_seg_len\n",
    "        if total_len>=length:\n",
    "            total_len = length\n",
    "        seg_json[total_len]=state\n",
    "    return seg_json"
   ]
  },
  {
   "cell_type": "code",
   "execution_count": 10,
   "metadata": {},
   "outputs": [],
   "source": [
    "from shape import RMDF\n",
    "def gen_channel_from_json(seg_json):\n",
    "    state_list = [seg_json[seg] for seg in seg_json]\n",
    "    seg_len_list = np.array([seg for seg in seg_json])\n",
    "    first_seg_len = seg_len_list[0]\n",
    "    seg_len_list = np.insert(np.diff(seg_len_list), 0, first_seg_len)\n",
    "    true_state_num = len(set(state_list))\n",
    "    # This is an object list.\n",
    "    rmdf_list = [RMDF.RMDF(depth=5) for i in range(true_state_num)]\n",
    "    for rmdf in rmdf_list:\n",
    "        rmdf.gen_anchor()\n",
    "    seg_list = []\n",
    "    for state, seg_len in zip(state_list, seg_len_list):\n",
    "        seg = [rmdf_list[state].gen(forking_depth=1, length=100) for i in range(10)]\n",
    "        seg_list.append(np.concatenate(seg)[:seg_len])\n",
    "    result = np.concatenate(seg_list)\n",
    "    return result\n",
    "\n",
    "def gen_from_json(seg_json):\n",
    "    # generate channel respectively.\n",
    "    channel_list = [gen_channel_from_json(seg_json) for i in range(channel_num)]\n",
    "    return np.stack(channel_list).T"
   ]
  },
  {
   "cell_type": "code",
   "execution_count": 11,
   "metadata": {},
   "outputs": [],
   "source": [
    "seg_json_list = []\n",
    "for i in range(num_group):\n",
    "    seg_json =generate_seg_json(seg_len, state_num, random_state)\n",
    "    seg_json_list.append(seg_json)"
   ]
  },
  {
   "cell_type": "markdown",
   "metadata": {},
   "source": [
    "## Generate data with shape-based states (Dataset 1)"
   ]
  },
  {
   "cell_type": "code",
   "execution_count": 12,
   "metadata": {},
   "outputs": [],
   "source": [
    "def generate_group(num_ts_in_group, seg_json):\n",
    "    data_list = []\n",
    "    for i in range(num_ts_in_group):\n",
    "        data = np.concatenate([gen_from_json(seg_json)])\n",
    "        data_list.append(data)\n",
    "    return data_list\n",
    "\n",
    "group_list = [generate_group(num_ts_in_group, seg_json) for seg_json in seg_json_list]"
   ]
  },
  {
   "cell_type": "code",
   "execution_count": 13,
   "metadata": {},
   "outputs": [],
   "source": [
    "width = num_ts_in_group * num_group\n",
    "groundtruth_matrix = np.zeros(shape=(width, width))\n",
    "for i in range(num_group):\n",
    "    start = i*num_ts_in_group\n",
    "    end = (i+1)*num_ts_in_group\n",
    "    groundtruth_matrix[start:end, start:end] = 1"
   ]
  },
  {
   "cell_type": "markdown",
   "metadata": {},
   "source": [
    "# Save Data"
   ]
  },
  {
   "cell_type": "code",
   "execution_count": 15,
   "metadata": {},
   "outputs": [],
   "source": [
    "import os\n",
    "dataset_name = 'dataset2'\n",
    "full_path = save_path+dataset_name\n",
    "if not os.path.exists(full_path):\n",
    "    os.makedirs(full_path)\n",
    "i = 0\n",
    "for group in group_list:\n",
    "    for data in group:\n",
    "        df = pd.DataFrame(data).round(4)\n",
    "        df.to_csv(full_path+'/test'+str(i)+'.csv', header=False)\n",
    "        i += 1\n",
    "np.save(save_path+'groundtruth_matrix_d2.npy', groundtruth_matrix)\n",
    "\n",
    "from TSpy.label import seg_to_label\n",
    "state_seq_list = [seg_to_label(seg_json) for seg_json in seg_json_list]\n",
    "for i, state_seq in enumerate(state_seq_list):\n",
    "    np.save(save_path+'state_seq2/group'+str(i)+'.npy', state_seq)"
   ]
  }
 ],
 "metadata": {
  "kernelspec": {
   "display_name": "Python 3",
   "language": "python",
   "name": "python3"
  },
  "language_info": {
   "codemirror_mode": {
    "name": "ipython",
    "version": 3
   },
   "file_extension": ".py",
   "mimetype": "text/x-python",
   "name": "python",
   "nbconvert_exporter": "python",
   "pygments_lexer": "ipython3",
   "version": "3.7.12"
  }
 },
 "nbformat": 4,
 "nbformat_minor": 1
}
