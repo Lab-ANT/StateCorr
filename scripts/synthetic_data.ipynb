{
 "cells": [
  {
   "cell_type": "markdown",
   "metadata": {},
   "source": [
    "# synthetic time series for evaluation"
   ]
  },
  {
   "cell_type": "code",
   "execution_count": 1,
   "metadata": {},
   "outputs": [],
   "source": [
    "# Created by Chengyu on 2021/1/17.\n",
    "import matplotlib.pyplot as plt\n",
    "import timesynth as ts\n",
    "import numpy as np\n",
    "import pandas as pd"
   ]
  },
  {
   "cell_type": "code",
   "execution_count": 2,
   "metadata": {},
   "outputs": [],
   "source": [
    "# configuration\n",
    "channel_num = 4\n",
    "seg_num = 20\n",
    "seg_len = 1000\n",
    "state_num = 4\n",
    "num_group = 10\n",
    "num_ts_in_group = 10\n",
    "save_path = '../data/synthetic_data/'"
   ]
  },
  {
   "cell_type": "code",
   "execution_count": 3,
   "metadata": {},
   "outputs": [],
   "source": [
    "# Generate segment json\n",
    "def generate_seg_json(seg_num, state_num, random_state=None):\n",
    "    # Config seed to generate determinally.\n",
    "    if random_state is not None:\n",
    "        np.random.seed(random_state)\n",
    "    seg_json = {}\n",
    "    state_list = np.random.randint(state_num, size=seg_num)\n",
    "    total_len = 1000\n",
    "    for i, state in zip(range(seg_num), state_list):\n",
    "        seg_len = 1000\n",
    "        seg_json[total_len]=state\n",
    "        total_len += seg_len\n",
    "    return seg_json"
   ]
  },
  {
   "cell_type": "code",
   "execution_count": 4,
   "metadata": {},
   "outputs": [],
   "source": [
    "from shape import RMDF\n",
    "def gen_channel_from_json(seg_json):\n",
    "    state_list = [seg_json[seg] for seg in seg_json]\n",
    "    true_state_num = len(set(state_list))\n",
    "    # This is an object list.\n",
    "    rmdf_list = [RMDF.RMDF(depth=5) for i in range(true_state_num)]\n",
    "    for rmdf in rmdf_list:\n",
    "        rmdf.gen_anchor()\n",
    "    seg_list = []\n",
    "    for state in state_list:\n",
    "        seg = [rmdf_list[state].gen(forking_depth=1, length=100) for i in range(5)]\n",
    "        seg_list.append(np.concatenate(seg))\n",
    "    result = np.concatenate(seg_list)\n",
    "    return result\n",
    "\n",
    "def gen_from_json(seg_json):\n",
    "    # generate channel respectively.\n",
    "    channel_list = [gen_channel_from_json(seg_json) for i in range(channel_num)]\n",
    "    return np.stack(channel_list).T"
   ]
  },
  {
   "cell_type": "code",
   "execution_count": 5,
   "metadata": {},
   "outputs": [],
   "source": [
    "seg_json_list = []\n",
    "for i in range(num_group):\n",
    "    seg_json =generate_seg_json(seg_num, state_num)\n",
    "    while len(set([seg_json[key] for key in list(seg_json)])) != state_num:\n",
    "        seg_json =generate_seg_json(seg_num, state_num)\n",
    "    seg_json_list.append(seg_json)"
   ]
  },
  {
   "cell_type": "markdown",
   "metadata": {},
   "source": [
    "## Generate data with shape-based states (Dataset 1)"
   ]
  },
  {
   "cell_type": "code",
   "execution_count": 6,
   "metadata": {},
   "outputs": [],
   "source": [
    "def generate_group(num_ts_in_group, seg_json):\n",
    "    data_list = []\n",
    "    for i in range(num_ts_in_group):\n",
    "        data = np.concatenate([gen_from_json(seg_json)])\n",
    "        data_list.append(data)\n",
    "    return data_list\n",
    "\n",
    "group_list = [generate_group(num_ts_in_group, seg_json) for seg_json in seg_json_list]"
   ]
  },
  {
   "cell_type": "code",
   "execution_count": 7,
   "metadata": {},
   "outputs": [
    {
     "data": {
      "image/png": "[encoded data removed]",
      "text/plain": [
       "<Figure size 432x288 with 2 Axes>"
      ]
     },
     "metadata": {
      "needs_background": "light"
     },
     "output_type": "display_data"
    }
   ],
   "source": [
    "# from TSpy.label import seg_to_label\n",
    "# from TSpy.metrics import calculate_NMI_matrix\n",
    "# label_list = [seg_to_label(seg_json) for seg_json in seg_json_list]\n",
    "# matrix = calculate_NMI_matrix(label_list)\n",
    "# plt.imshow(matrix)\n",
    "# plt.colorbar()\n",
    "# plt.show()\n"
   ]
  },
  {
   "cell_type": "code",
   "execution_count": 8,
   "metadata": {},
   "outputs": [],
   "source": [
    "width = num_ts_in_group * num_group\n",
    "groundtruth_matrix = np.zeros(shape=(width, width))\n",
    "for i in range(num_group):\n",
    "    start = i*num_ts_in_group\n",
    "    end = (i+1)*num_ts_in_group\n",
    "    groundtruth_matrix[start:end, start:end] = 1\n",
    "# plt.imshow(groundtruth_matrix)\n",
    "# plt.show()"
   ]
  },
  {
   "cell_type": "markdown",
   "metadata": {},
   "source": [
    "# Save Data"
   ]
  },
  {
   "cell_type": "code",
   "execution_count": 9,
   "metadata": {},
   "outputs": [],
   "source": [
    "import os\n",
    "dataset_name = 'dataset1'\n",
    "full_path = save_path+dataset_name\n",
    "if not os.path.exists(full_path):\n",
    "    os.makedirs(full_path)\n",
    "i = 0\n",
    "for group in group_list:\n",
    "    for data in group:\n",
    "        df = pd.DataFrame(data).round(4)\n",
    "        df.to_csv(full_path+'/test'+str(i)+'.csv', header=False)\n",
    "        i += 1\n",
    "np.save(save_path+'groundtruth_matrix_d1.npy', groundtruth_matrix)"
   ]
  },
  {
   "cell_type": "markdown",
   "metadata": {},
   "source": [
    "## Generate data with statistical moment based states"
   ]
  },
  {
   "cell_type": "code",
   "execution_count": 10,
   "metadata": {},
   "outputs": [],
   "source": [
    "# state_list = [seg_json[seg] for seg in seg_json]\n",
    "# true_state_num = len(set(state_list))\n",
    "# gaussian_param_list = np.arange(0.2,1,true_state_num)\n",
    "# # print(gaussian_param_list)\n",
    "# seg_list = []\n",
    "# for state in gaussian_param_list:\n",
    "#     seg_list.append(np.random.normal(0, state, size=1000))\n",
    "# data = np.concatenate(seg_list)\n",
    "# data_list.append(data)\n",
    "# print(data_list[0].shape,data.shape)\n",
    "# n_ts = 3"
   ]
  },
  {
   "cell_type": "markdown",
   "metadata": {},
   "source": [
    "## Diaplay and save figures"
   ]
  },
  {
   "cell_type": "code",
   "execution_count": 11,
   "metadata": {},
   "outputs": [],
   "source": [
    "# from TSpy.view import plot_mulvariate_time_series\n",
    "# fig_path = 'dataset1_fig'\n",
    "# full_path = save_path + fig_path\n",
    "# if not os.path.exists(full_path):\n",
    "#     os.makedirs(full_path)\n",
    "# i = 0\n",
    "# for group in group_list:\n",
    "#     for data in group:\n",
    "#         plot_mulvariate_time_series(data, save_path=full_path+'/test'+str(i)+'.png')\n",
    "#         i += 1"
   ]
  }
 ],
 "metadata": {
  "kernelspec": {
   "display_name": "Python 3",
   "language": "python",
   "name": "python3"
  },
  "language_info": {
   "codemirror_mode": {
    "name": "ipython",
    "version": 3
   },
   "file_extension": ".py",
   "mimetype": "text/x-python",
   "name": "python",
   "nbconvert_exporter": "python",
   "pygments_lexer": "ipython3",
   "version": "3.9.7"
  }
 },
 "nbformat": 4,
 "nbformat_minor": 1
}
